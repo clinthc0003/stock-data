{
 "cells": [
  {
   "cell_type": "markdown",
   "id": "c987d206-8c68-4528-9be3-dd3f2dd208dd",
   "metadata": {},
   "source": [
    "# SPX Weekly Extension\n",
    "## Description\n",
    "This script will be used to simply find the weeks where the S&P500 had the largest extension from it's weekly 9EMA."
   ]
  },
  {
   "cell_type": "code",
   "execution_count": 2,
   "id": "6d089f0d-696e-4dcf-9734-b324693d5857",
   "metadata": {
    "tags": []
   },
   "outputs": [],
   "source": [
    "import datetime as dt\n",
    "import numpy as np\n",
    "import pandas as pd"
   ]
  },
  {
   "cell_type": "code",
   "execution_count": 3,
   "id": "e613589c-ec83-4f9b-a51a-39bd8c72b1b4",
   "metadata": {},
   "outputs": [],
   "source": [
    "#Read in weekly bars from csv\n",
    "df = pd.read_csv(\"SPX_Weekly.txt\")"
   ]
  },
  {
   "cell_type": "code",
   "execution_count": 4,
   "id": "54636c84-74d2-4a59-a725-f9378d4b2621",
   "metadata": {},
   "outputs": [],
   "source": [
    "#Convert strings of date and time to datetime format and set as index\n",
    "df[\"datetime\"] = df[\"Date\"] + \" \" + df[\"Time\"]\n",
    "df[\"datetime\"] =pd.to_datetime(df[\"datetime\"])\n",
    "#Add ticker column for grouping\n",
    "df['ticker'] = 'SPX'\n",
    "df = df.set_index('datetime')"
   ]
  },
  {
   "cell_type": "code",
   "execution_count": 5,
   "id": "bdcc4149-af52-4340-868e-e528f9744890",
   "metadata": {},
   "outputs": [],
   "source": [
    "#Create custom indicators\n",
    "ema9 = lambda x: x.ewm(span=9, min_periods=9, adjust=False, ignore_na=False).mean()"
   ]
  },
  {
   "cell_type": "code",
   "execution_count": 6,
   "id": "2ccfeee0-8254-4279-88cc-d60c362e28a3",
   "metadata": {},
   "outputs": [],
   "source": [
    "#Apply custom indicators and creat ema9 column\n",
    "df = df.assign(ema9=df.groupby('ticker')['Close'].apply(ema9))\n",
    "df = df.dropna(subset=['ema9'])"
   ]
  },
  {
   "cell_type": "code",
   "execution_count": 7,
   "id": "a7681455-026b-4899-a38b-c0f00426a9e8",
   "metadata": {},
   "outputs": [],
   "source": [
    "#Create differences from ema9 to determine extension\n",
    "df['ema9_diff'] = df['Close'] - df['ema9']\n",
    "df['ema9_diff%'] = round(df['ema9_diff'] / df['Close'] * 100, 2)"
   ]
  },
  {
   "cell_type": "code",
   "execution_count": 8,
   "id": "815c7ba3-3d67-44d8-a455-f67b59b7ae06",
   "metadata": {},
   "outputs": [],
   "source": [
    "#drop unneccessary columns\n",
    "df = df.drop(columns=['Date', 'Time', 'Vol', 'OI', 'Vol.1','VolAvg', 'ticker'])"
   ]
  },
  {
   "cell_type": "code",
   "execution_count": 9,
   "id": "c5ff56cc-2e11-4ec8-ae55-d46f7307b4fb",
   "metadata": {
    "tags": []
   },
   "outputs": [],
   "source": [
    "downwardExt = df.sort_values('ema9_diff%', ascending=True)\n",
    "upwardExt = df.sort_values('ema9_diff%', ascending=False)"
   ]
  },
  {
   "cell_type": "code",
   "execution_count": 10,
   "id": "bb22921d-7253-41f1-ab2a-780bdfed349f",
   "metadata": {},
   "outputs": [],
   "source": [
    "upwardExt.head(50)\n",
    "upwardExt.to_csv('upwardExt.csv')"
   ]
  },
  {
   "cell_type": "code",
   "execution_count": 11,
   "id": "1fa28f57-eb13-4a57-945d-db3d691ef88a",
   "metadata": {},
   "outputs": [],
   "source": [
    "downwardExt.head(50)\n",
    "downwardExt.to_csv('downwardExt.csv')"
   ]
  }
 ],
 "metadata": {
  "kernelspec": {
   "display_name": "Python 3 (ipykernel)",
   "language": "python",
   "name": "python3"
  },
  "language_info": {
   "codemirror_mode": {
    "name": "ipython",
    "version": 3
   },
   "file_extension": ".py",
   "mimetype": "text/x-python",
   "name": "python",
   "nbconvert_exporter": "python",
   "pygments_lexer": "ipython3",
   "version": "3.9.12"
  }
 },
 "nbformat": 4,
 "nbformat_minor": 5
}
